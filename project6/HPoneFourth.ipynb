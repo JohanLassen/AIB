{
 "cells": [
  {
   "cell_type": "code",
   "execution_count": 265,
   "metadata": {},
   "outputs": [],
   "source": [
    "from itertools import compress\n",
    "import numpy as np\n",
    "import subprocess"
   ]
  },
  {
   "cell_type": "code",
   "execution_count": 76,
   "metadata": {},
   "outputs": [],
   "source": [
    "def get_matches(seq_string):\n",
    "    l   = len(seq_string)\n",
    "    hp = list(seq_string.lower())\n",
    "    \n",
    "    x = [True, False] * (l // 2)\n",
    "    if l%2 == 1: x.append(True)\n",
    "        \n",
    "    y = [x == \"h\" for x in hp]\n",
    "    \n",
    "    z = list(compress(x, y))\n",
    "    tf = ft = 0\n",
    "    for i in range(len(z)//2):\n",
    "        if [z[i], z[-i]] == [True, False]: tf += 1\n",
    "        if [z[i], z[-i]] == [False, True]: ft += 1\n",
    "    equals_first = tf>ft\n",
    "    \n",
    "    match = list()\n",
    "    for i in range(l):\n",
    "        if i < l//2:\n",
    "            match.append(y[i] and x[i] == equals_first)\n",
    "        if i >= l//2:\n",
    "            match.append(y[i] and x[i] != equals_first)\n",
    "        # There might be a bug here!\n",
    "    \n",
    "    return match"
   ]
  },
  {
   "cell_type": "code",
   "execution_count": 256,
   "metadata": {},
   "outputs": [],
   "source": [
    "hp1 = \"hhppppphhppphppphp\"\n",
    "p   = get_matches(hp1)"
   ]
  },
  {
   "cell_type": "code",
   "execution_count": 297,
   "metadata": {},
   "outputs": [],
   "source": [
    "def get_abs_path(m):\n",
    "\n",
    "    abs_coords = list()\n",
    "    k = 0\n",
    "\n",
    "    setting = {\"east\":{\"away\": \"n\", \"closer\": \"s\", \"forward\": \"e\"},\n",
    "              \"west\": {\"away\": \"s\", \"closer\": \"n\", \"forward\": \"w\"}}\n",
    "    coords = setting[\"east\"]\n",
    "\n",
    "    while k < len(m):\n",
    "\n",
    "        if m[k] == False and k == 0:\n",
    "            while m[k] == False:\n",
    "                abs_coords.append(coords[\"forward\"])\n",
    "                k += 1\n",
    "            abs_coords.append(coords[\"forward\"])\n",
    "            k += 1\n",
    "\n",
    "        if m[k] and k == 0: \n",
    "            abs_coords.append(coords[\"forward\"])\n",
    "            k += 1\n",
    "\n",
    "\n",
    "        h = 2\n",
    "\n",
    "        if k+h > len(m):\n",
    "            abs_coords.append(coords[\"forward\"]*abs(len(m)-(k+h)))\n",
    "            break\n",
    "\n",
    "\n",
    "        while np.sum(m[k:k+h]) < 1:\n",
    "            h += 1\n",
    "\n",
    "        if h%2 == 1:\n",
    "            abs_coords.append(coords[\"forward\"]*(h//2))\n",
    "            abs_coords.append(coords[\"closer\"])\n",
    "\n",
    "            coords = setting[\"west\"] # Now we go back\n",
    "\n",
    "            abs_coords.append(coords[\"forward\"]*(h//2))\n",
    "\n",
    "            k += h\n",
    "\n",
    "        elif h == 2:\n",
    "            abs_coords.append(coords[\"forward\"]*2)\n",
    "            k += 2\n",
    "\n",
    "        elif h > 2 and h % 2 == 0:\n",
    "            bulge_length = h-1\n",
    "            abs_coords.append(coords[\"away\"]*(bulge_length//2))\n",
    "            abs_coords.append(coords[\"forward\"])\n",
    "            abs_coords.append(coords[\"closer\"]*(bulge_length//2))\n",
    "            abs_coords.append(coords[\"forward\"])\n",
    "            k += bulge_length+1\n",
    "\n",
    "    final = \"\".join(abs_coords)[1:]\n",
    "    return final   "
   ]
  },
  {
   "cell_type": "code",
   "execution_count": 298,
   "metadata": {},
   "outputs": [],
   "source": [
    "def hp(sequence):\n",
    "    m = get_matches(sequence)\n",
    "    fold = get_abs_path(m)\n",
    "    return fold"
   ]
  },
  {
   "cell_type": "code",
   "execution_count": 313,
   "metadata": {},
   "outputs": [],
   "source": [
    "seq = \"pppppphphhppppphhhphhhhhphhpppphhpphhphhhhhphhhhhhhhhhphhphhhhhhhppppppppppphhhhhhhpphphhhpppppphphh\""
   ]
  },
  {
   "cell_type": "code",
   "execution_count": 314,
   "metadata": {},
   "outputs": [
    {
     "name": "stdout",
     "output_type": "stream",
     "text": [
      "pppppphphhppppphhhphhhhhphhpppphhpphhphhhhhphhhhhhhhhhphhphhhhhhhppppppppppphhhhhhhpphphhhpppppphphh eeeeeeeeennesseeeeeeeeeeennesseneseneseeeneseeeeeeeeeeswwwwwwwwwssssswnnnnnwwwwwwwsswnnwssswnnnwwww\n"
     ]
    }
   ],
   "source": [
    "print(seq, hp(seq))"
   ]
  }
 ],
 "metadata": {
  "kernelspec": {
   "display_name": "Python 3",
   "language": "python",
   "name": "python3"
  },
  "language_info": {
   "codemirror_mode": {
    "name": "ipython",
    "version": 3
   },
   "file_extension": ".py",
   "mimetype": "text/x-python",
   "name": "python",
   "nbconvert_exporter": "python",
   "pygments_lexer": "ipython3",
   "version": "3.7.7"
  }
 },
 "nbformat": 4,
 "nbformat_minor": 4
}
