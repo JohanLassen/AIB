{
 "cells": [
  {
   "cell_type": "code",
   "execution_count": null,
   "metadata": {},
   "outputs": [],
   "source": [
    "import numpy as np"
   ]
  },
  {
   "cell_type": "markdown",
   "metadata": {},
   "source": [
    "Parser to read in matrix in phylip format"
   ]
  },
  {
   "cell_type": "code",
   "execution_count": 1,
   "metadata": {},
   "outputs": [],
   "source": [
    "def read_phylip(file):\n",
    "    n = None\n",
    "    scoring_matrix = []\n",
    "    taxons = []\n",
    "\n",
    "    with open(file, \"r\") as f:\n",
    "        lines = f.readlines()\n",
    "\n",
    "        for line in lines:\n",
    "            if line == lines[0]:\n",
    "                n = int(line.rstrip())\n",
    "            else:\n",
    "                current_line = line.split()\n",
    "                row = []\n",
    "                for char in current_line:\n",
    "                    if char == current_line[0]:\n",
    "                        taxons.append(char)\n",
    "                    else:\n",
    "                        row.append(float(char))\n",
    "                scoring_matrix.append(row)\n",
    "    return n, taxons, scoring_matrix"
   ]
  },
  {
   "cell_type": "markdown",
   "metadata": {},
   "source": [
    "NJ algorithm uses an N matrix to quantify relatedness"
   ]
  },
  {
   "cell_type": "code",
   "execution_count": 2,
   "metadata": {},
   "outputs": [],
   "source": [
    "def N_mat(dist_matrix):\n",
    "    \"\"\"\n",
    "    Dist matrix must be a numpy array\n",
    "    \"\"\"\n",
    "    size = dist_matrix.shape[0]\n",
    "    \n",
    "    # get r\n",
    "    r = np.sum(dist_matrix, axis = 0)/(size-2)\n",
    "    \n",
    "    # calculate N matrix\n",
    "    N = np.zeros((size, size))\n",
    "    \n",
    "    # save min coordinates while iterating\n",
    "    min_val = 0\n",
    "    ij = 0, 0\n",
    "    \n",
    "    for i in range(size):\n",
    "        for j in range(size):\n",
    "            if i > j:\n",
    "                nij = dist_matrix[i, j] - (r[i] + r[j])\n",
    "                N[i, j] = nij\n",
    "                \n",
    "                if nij < min_val:\n",
    "                    min_val = nij\n",
    "                    ij = i, j\n",
    "                \n",
    "    # fill the other half\n",
    "    N = N.T + N\n",
    "    \n",
    "    return r, N, ij"
   ]
  },
  {
   "cell_type": "markdown",
   "metadata": {},
   "source": [
    "The following creates biopython tree on basis of a distance matrix"
   ]
  },
  {
   "cell_type": "code",
   "execution_count": 3,
   "metadata": {},
   "outputs": [],
   "source": [
    "def make_tree(file):\n",
    "    \n",
    "    parsed = read_phylip(file)\n",
    "    \n",
    "    m = np.array(parsed[2])\n",
    "    taxons = parsed[1]\n",
    "    nodes = dict()\n",
    "    \n",
    "    while m.shape[1] > 3:\n",
    "        r, N, ij = N_mat(m)\n",
    "        ki = 1/2*(m[ij]+r[ij[0]]-r[ij[1]])\n",
    "        kj = 1/2*(m[ij]+r[ij[1]]-r[ij[0]])\n",
    "\n",
    "        # Check if children is in dictionary\n",
    "        child1 = taxons[ij[0]]\n",
    "        child2 = taxons[ij[1]]\n",
    "\n",
    "        if child1 not in nodes:\n",
    "            nodes[child1] = Phylo.BaseTree.Clade(branch_length = ki, name = child1)\n",
    "        if child2 not in nodes:\n",
    "            nodes[child2] = Phylo.BaseTree.Clade(branch_length = kj, name = child2)\n",
    "\n",
    "        # Add node to dictionary\n",
    "        name = taxons[ij[0]] + \"_\" + taxons[ij[1]]\n",
    "        nodes[name] = Phylo.BaseTree.Clade(branch_length = None, name = name, clades = [nodes[child1], nodes[child2]])\n",
    "\n",
    "        # Pop names from taxons list\n",
    "        taxons.pop(ij[0])\n",
    "        taxons.pop(ij[1])\n",
    "        taxons.append(name)\n",
    "\n",
    "        # Add k to dist matrix\n",
    "        k = list(1/2 * (m[ij[0],:]+m[ij[1],:] - m[ij]))\n",
    "        k.pop(ij[0])\n",
    "        k.pop(ij[1])\n",
    "        k.append(0)\n",
    "\n",
    "        # Modify distance matrix\n",
    "        k_col = np.reshape(k[0:-1], (-1, 1))\n",
    "        k_row = np.reshape(k, (1, -1))\n",
    "        m = np.delete(m, ij, 1)\n",
    "        m = np.delete(m, ij, 0)\n",
    "        m = np.append(m, k_col, axis = 1)\n",
    "        m = np.append(m, k_row, axis = 0)\n",
    "    \n",
    "    final_dist = {taxons[0] : (m[0,1]+m[0,2]-m[1,2])/2,\n",
    "              taxons[1] : (m[0,1]+m[1,2]-m[0,2])/2,\n",
    "              taxons[2] : (m[0,2]+m[1,2]-m[0,1])/2}\n",
    "    \n",
    "    for child in taxons:\n",
    "        if child not in nodes:\n",
    "            nodes[child] = Phylo.BaseTree.Clade(branch_length = final_dist[child], name = child)\n",
    "        else:\n",
    "            nodes[child] = Phylo.BaseTree.Clade(branch_length = final_dist[child], \n",
    "                                                name = child, \n",
    "                                                clades = nodes[child].clades)\n",
    "    \n",
    "    name = \"_\".join(taxons)\n",
    " \n",
    "    nodes[name] = Phylo.BaseTree.Clade(branch_length = None, \n",
    "                                                name = name, \n",
    "                                                clades = [nodes[taxons[0]], nodes[taxons[1]], nodes[taxons[2]]])\n",
    "    tree = Phylo.BaseTree.Tree(root = nodes[name])\n",
    "    \n",
    "    return tree"
   ]
  },
  {
   "cell_type": "markdown",
   "metadata": {},
   "source": [
    "Example of use"
   ]
  },
  {
   "cell_type": "code",
   "execution_count": null,
   "metadata": {},
   "outputs": [],
   "source": [
    "test = \"example_slide4.phy\"\n",
    "t = make_nodes(test)\n",
    "\n",
    "# P\n",
    "t.format(\"newick\")"
   ]
  }
 ],
 "metadata": {
  "kernelspec": {
   "display_name": "Python 3",
   "language": "python",
   "name": "python3"
  },
  "language_info": {
   "codemirror_mode": {
    "name": "ipython",
    "version": 3
   },
   "file_extension": ".py",
   "mimetype": "text/x-python",
   "name": "python",
   "nbconvert_exporter": "python",
   "pygments_lexer": "ipython3",
   "version": "3.7.3"
  }
 },
 "nbformat": 4,
 "nbformat_minor": 2
}
